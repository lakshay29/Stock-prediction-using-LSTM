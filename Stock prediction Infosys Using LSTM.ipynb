{
 "cells": [
  {
   "cell_type": "markdown",
   "metadata": {},
   "source": [
    "### Stock Market Prediction And Forecasting Using Stacked LSTM"
   ]
  },
  {
   "cell_type": "code",
   "execution_count": 38,
   "metadata": {},
   "outputs": [],
   "source": [
    "import pandas as pd\n",
    "import yfinance as yf\n",
    "import numpy as np\n",
    "import keras"
   ]
  },
  {
   "cell_type": "code",
   "execution_count": 39,
   "metadata": {},
   "outputs": [
    {
     "name": "stdout",
     "output_type": "stream",
     "text": [
      "[*********************100%***********************]  1 of 1 completed\n"
     ]
    }
   ],
   "source": [
    "INFY = yf.download(tickers='INFY.NS',start='2016-03-1',end='2021-04-10')\n",
    "df1 = INFY.drop(['Open','High','Adj Close','Volume','Low'],axis=1)"
   ]
  },
  {
   "cell_type": "code",
   "execution_count": 40,
   "metadata": {},
   "outputs": [
    {
     "data": {
      "text/plain": [
       "<function matplotlib.pyplot.show(*args, **kw)>"
      ]
     },
     "execution_count": 40,
     "metadata": {},
     "output_type": "execute_result"
    },
    {
     "data": {
      "image/png": "[encoded data removed]",
      "text/plain": [
       "<Figure size 432x288 with 1 Axes>"
      ]
     },
     "metadata": {
      "needs_background": "light"
     },
     "output_type": "display_data"
    }
   ],
   "source": [
    "import matplotlib.pyplot as plt\n",
    "plt.plot(df1)\n",
    "plt.show"
   ]
  },
  {
   "cell_type": "code",
   "execution_count": 41,
   "metadata": {},
   "outputs": [],
   "source": [
    "### LSTM are sensitive to the scale of the data. so we apply MinMax scaler "
   ]
  },
  {
   "cell_type": "code",
   "execution_count": 42,
   "metadata": {},
   "outputs": [],
   "source": [
    "from sklearn.preprocessing import MinMaxScaler\n",
    "scaler=MinMaxScaler(feature_range=(0,1))\n",
    "df1=scaler.fit_transform(np.array(df1).reshape(-1,1))"
   ]
  },
  {
   "cell_type": "code",
   "execution_count": 43,
   "metadata": {},
   "outputs": [],
   "source": [
    "##splitting dataset into train and test split\n",
    "training_size=int(len(df1)*0.65)\n",
    "test_size=len(df1)-training_size\n",
    "train_data,test_data=df1[0:training_size,:],df1[training_size:len(df1),:1]"
   ]
  },
  {
   "cell_type": "code",
   "execution_count": 44,
   "metadata": {},
   "outputs": [],
   "source": [
    "import numpy\n",
    "# convert an array of values into a dataset matrix\n",
    "def create_dataset(dataset, time_step=1):\n",
    "\tdataX, dataY = [], []\n",
    "\tfor i in range(len(dataset)-time_step-1):\n",
    "\t\ta = dataset[i:(i+time_step), 0]   ###i=0, 0,1,2,3-----99   100 \n",
    "\t\tdataX.append(a)\n",
    "\t\tdataY.append(dataset[i + time_step, 0])\n",
    "\treturn numpy.array(dataX), numpy.array(dataY)"
   ]
  },
  {
   "cell_type": "code",
   "execution_count": 45,
   "metadata": {},
   "outputs": [],
   "source": [
    "# reshape into X=t,t+1,t+2,t+3 and Y=t+4\n",
    "time_step = 100\n",
    "X_train, y_train = create_dataset(train_data, time_step)\n",
    "X_test, ytest = create_dataset(test_data, time_step)"
   ]
  },
  {
   "cell_type": "code",
   "execution_count": 46,
   "metadata": {},
   "outputs": [],
   "source": [
    "# reshape input to be [samples, time steps, features] which is required for LSTM\n",
    "X_train =X_train.reshape(X_train.shape[0],X_train.shape[1] , 1)\n",
    "X_test = X_test.reshape(X_test.shape[0],X_test.shape[1] , 1)"
   ]
  },
  {
   "cell_type": "code",
   "execution_count": 47,
   "metadata": {},
   "outputs": [],
   "source": [
    "### Create the Stacked LSTM model\n",
    "from tensorflow.keras.models import Sequential\n",
    "from tensorflow.keras.layers import Dense\n",
    "from tensorflow.keras.layers import LSTM"
   ]
  },
  {
   "cell_type": "code",
   "execution_count": 49,
   "metadata": {},
   "outputs": [
    {
     "name": "stdout",
     "output_type": "stream",
     "text": [
      "Model: \"sequential_1\"\n",
      "_________________________________________________________________\n",
      "Layer (type)                 Output Shape              Param #   \n",
      "=================================================================\n",
      "lstm_3 (LSTM)                (None, 100, 50)           10400     \n",
      "_________________________________________________________________\n",
      "lstm_4 (LSTM)                (None, 100, 50)           20200     \n",
      "_________________________________________________________________\n",
      "lstm_5 (LSTM)                (None, 50)                20200     \n",
      "_________________________________________________________________\n",
      "dense_1 (Dense)              (None, 1)                 51        \n",
      "=================================================================\n",
      "Total params: 50,851\n",
      "Trainable params: 50,851\n",
      "Non-trainable params: 0\n",
      "_________________________________________________________________\n"
     ]
    }
   ],
   "source": [
    "model=Sequential()\n",
    "model.add(LSTM(50,return_sequences=True,input_shape=(100,1)))\n",
    "model.add(LSTM(50,return_sequences=True))\n",
    "model.add(LSTM(50))\n",
    "model.add(Dense(1))\n",
    "model.compile(loss='mean_squared_error',optimizer='adam')\n",
    "model.summary()"
   ]
  },
  {
   "cell_type": "code",
   "execution_count": 50,
   "metadata": {},
   "outputs": [
    {
     "name": "stdout",
     "output_type": "stream",
     "text": [
      "Train on 716 samples, validate on 340 samples\n",
      "WARNING:tensorflow:From C:\\Users\\Lakshay Garg\\Anaconda3\\lib\\site-packages\\tensorflow\\python\\ops\\math_grad.py:1250: add_dispatch_support.<locals>.wrapper (from tensorflow.python.ops.array_ops) is deprecated and will be removed in a future version.\n",
      "Instructions for updating:\n",
      "Use tf.where in 2.0, which has the same broadcast rule as np.where\n",
      "Epoch 1/100\n",
      "716/716 [==============================] - 6s 8ms/sample - loss: 0.0131 - val_loss: 0.0630\n",
      "Epoch 2/100\n",
      "716/716 [==============================] - 2s 3ms/sample - loss: 0.0034 - val_loss: 0.0033\n",
      "Epoch 3/100\n",
      "716/716 [==============================] - 2s 3ms/sample - loss: 0.0012 - val_loss: 0.0042\n",
      "Epoch 4/100\n",
      "716/716 [==============================] - 2s 3ms/sample - loss: 6.0994e-04 - val_loss: 0.0061\n",
      "Epoch 5/100\n",
      "716/716 [==============================] - 2s 3ms/sample - loss: 4.4070e-04 - val_loss: 0.0036\n",
      "Epoch 6/100\n",
      "716/716 [==============================] - 2s 3ms/sample - loss: 4.2816e-04 - val_loss: 0.0031\n",
      "Epoch 7/100\n",
      "716/716 [==============================] - 2s 3ms/sample - loss: 4.2850e-04 - val_loss: 0.0034\n",
      "Epoch 8/100\n",
      "716/716 [==============================] - 3s 4ms/sample - loss: 3.9151e-04 - val_loss: 0.0034\n",
      "Epoch 9/100\n",
      "716/716 [==============================] - 3s 4ms/sample - loss: 3.7919e-04 - val_loss: 0.0038\n",
      "Epoch 10/100\n",
      "716/716 [==============================] - 3s 4ms/sample - loss: 3.7791e-04 - val_loss: 0.0034\n",
      "Epoch 11/100\n",
      "716/716 [==============================] - 3s 4ms/sample - loss: 3.6891e-04 - val_loss: 0.0038\n",
      "Epoch 12/100\n",
      "716/716 [==============================] - 2s 3ms/sample - loss: 3.6666e-04 - val_loss: 0.0035\n",
      "Epoch 13/100\n",
      "716/716 [==============================] - 3s 4ms/sample - loss: 3.6282e-04 - val_loss: 0.0039\n",
      "Epoch 14/100\n",
      "716/716 [==============================] - 2s 3ms/sample - loss: 3.4533e-04 - val_loss: 0.0040\n",
      "Epoch 15/100\n",
      "716/716 [==============================] - 2s 3ms/sample - loss: 3.4110e-04 - val_loss: 0.0054\n",
      "Epoch 16/100\n",
      "716/716 [==============================] - 3s 4ms/sample - loss: 3.4513e-04 - val_loss: 0.0046\n",
      "Epoch 17/100\n",
      "716/716 [==============================] - 3s 4ms/sample - loss: 3.2580e-04 - val_loss: 0.0030\n",
      "Epoch 18/100\n",
      "716/716 [==============================] - 2s 3ms/sample - loss: 3.2481e-04 - val_loss: 0.0038\n",
      "Epoch 19/100\n",
      "716/716 [==============================] - 3s 4ms/sample - loss: 3.2460e-04 - val_loss: 0.0028\n",
      "Epoch 20/100\n",
      "716/716 [==============================] - 2s 3ms/sample - loss: 3.1303e-04 - val_loss: 0.0051\n",
      "Epoch 21/100\n",
      "716/716 [==============================] - 3s 4ms/sample - loss: 3.3602e-04 - val_loss: 0.0044\n",
      "Epoch 22/100\n",
      "716/716 [==============================] - 3s 4ms/sample - loss: 3.0494e-04 - val_loss: 0.0039\n",
      "Epoch 23/100\n",
      "716/716 [==============================] - 3s 4ms/sample - loss: 3.0368e-04 - val_loss: 0.0056\n",
      "Epoch 24/100\n",
      "716/716 [==============================] - 2s 3ms/sample - loss: 3.0564e-04 - val_loss: 0.0035\n",
      "Epoch 25/100\n",
      "716/716 [==============================] - 3s 4ms/sample - loss: 2.7753e-04 - val_loss: 0.0039\n",
      "Epoch 26/100\n",
      "716/716 [==============================] - 2s 3ms/sample - loss: 2.7794e-04 - val_loss: 0.0034\n",
      "Epoch 27/100\n",
      "716/716 [==============================] - 2s 3ms/sample - loss: 3.0906e-04 - val_loss: 0.0073\n",
      "Epoch 28/100\n",
      "716/716 [==============================] - 2s 3ms/sample - loss: 2.9668e-04 - val_loss: 0.0033\n",
      "Epoch 29/100\n",
      "716/716 [==============================] - 2s 3ms/sample - loss: 2.7049e-04 - val_loss: 0.0035-0\n",
      "Epoch 30/100\n",
      "716/716 [==============================] - 2s 3ms/sample - loss: 2.7254e-04 - val_loss: 0.0044\n",
      "Epoch 31/100\n",
      "716/716 [==============================] - 3s 4ms/sample - loss: 2.6330e-04 - val_loss: 0.0032\n",
      "Epoch 32/100\n",
      "716/716 [==============================] - 3s 4ms/sample - loss: 2.6337e-04 - val_loss: 0.0031\n",
      "Epoch 33/100\n",
      "716/716 [==============================] - 3s 4ms/sample - loss: 2.6281e-04 - val_loss: 0.0036\n",
      "Epoch 34/100\n",
      "716/716 [==============================] - 3s 4ms/sample - loss: 2.5609e-04 - val_loss: 0.0063\n",
      "Epoch 35/100\n",
      "716/716 [==============================] - 3s 4ms/sample - loss: 2.7017e-04 - val_loss: 0.0027\n",
      "Epoch 36/100\n",
      "716/716 [==============================] - 3s 4ms/sample - loss: 2.6044e-04 - val_loss: 0.0053\n",
      "Epoch 37/100\n",
      "716/716 [==============================] - 2s 3ms/sample - loss: 2.4642e-04 - val_loss: 0.0029\n",
      "Epoch 38/100\n",
      "716/716 [==============================] - 3s 4ms/sample - loss: 2.4178e-04 - val_loss: 0.0041\n",
      "Epoch 39/100\n",
      "716/716 [==============================] - 2s 3ms/sample - loss: 2.3621e-04 - val_loss: 0.0040\n",
      "Epoch 40/100\n",
      "716/716 [==============================] - 3s 4ms/sample - loss: 2.3708e-04 - val_loss: 0.0024\n",
      "Epoch 41/100\n",
      "716/716 [==============================] - 3s 4ms/sample - loss: 2.6558e-04 - val_loss: 0.0068\n",
      "Epoch 42/100\n",
      "716/716 [==============================] - 3s 4ms/sample - loss: 2.8718e-04 - val_loss: 0.0046\n",
      "Epoch 43/100\n",
      "716/716 [==============================] - 3s 4ms/sample - loss: 2.3208e-04 - val_loss: 0.0032\n",
      "Epoch 44/100\n",
      "716/716 [==============================] - 3s 4ms/sample - loss: 2.3315e-04 - val_loss: 0.0056\n",
      "Epoch 45/100\n",
      "716/716 [==============================] - 3s 4ms/sample - loss: 2.4344e-04 - val_loss: 0.0026\n",
      "Epoch 46/100\n",
      "716/716 [==============================] - 3s 4ms/sample - loss: 2.3551e-04 - val_loss: 0.0042\n",
      "Epoch 47/100\n",
      "716/716 [==============================] - 2s 3ms/sample - loss: 2.2688e-04 - val_loss: 0.0036\n",
      "Epoch 48/100\n",
      "716/716 [==============================] - 3s 4ms/sample - loss: 2.1350e-04 - val_loss: 0.0044\n",
      "Epoch 49/100\n",
      "716/716 [==============================] - 2s 3ms/sample - loss: 2.2204e-04 - val_loss: 0.0057\n",
      "Epoch 50/100\n",
      "716/716 [==============================] - 3s 4ms/sample - loss: 2.2089e-04 - val_loss: 0.0035\n",
      "Epoch 51/100\n",
      "716/716 [==============================] - 2s 3ms/sample - loss: 2.2200e-04 - val_loss: 0.0055\n",
      "Epoch 52/100\n",
      "716/716 [==============================] - 2s 3ms/sample - loss: 2.2897e-04 - val_loss: 0.0024\n",
      "Epoch 53/100\n",
      "716/716 [==============================] - 3s 4ms/sample - loss: 2.3133e-04 - val_loss: 0.0050\n",
      "Epoch 54/100\n",
      "716/716 [==============================] - 3s 4ms/sample - loss: 2.1418e-04 - val_loss: 0.0029\n",
      "Epoch 55/100\n",
      "716/716 [==============================] - 3s 4ms/sample - loss: 2.0498e-04 - val_loss: 0.0046\n",
      "Epoch 56/100\n",
      "716/716 [==============================] - 3s 4ms/sample - loss: 2.1298e-04 - val_loss: 0.0030\n",
      "Epoch 57/100\n",
      "716/716 [==============================] - 3s 4ms/sample - loss: 2.1371e-04 - val_loss: 0.0049\n",
      "Epoch 58/100\n",
      "716/716 [==============================] - 3s 4ms/sample - loss: 2.0970e-04 - val_loss: 0.0023\n",
      "Epoch 59/100\n",
      "716/716 [==============================] - 3s 4ms/sample - loss: 2.5790e-04 - val_loss: 0.0035\n",
      "Epoch 60/100\n",
      "716/716 [==============================] - 3s 4ms/sample - loss: 2.2583e-04 - val_loss: 0.0035\n",
      "Epoch 61/100\n",
      "716/716 [==============================] - 3s 4ms/sample - loss: 2.3915e-04 - val_loss: 0.0031\n",
      "Epoch 62/100\n",
      "716/716 [==============================] - 3s 4ms/sample - loss: 2.0373e-04 - val_loss: 0.0031\n",
      "Epoch 63/100\n",
      "716/716 [==============================] - 3s 4ms/sample - loss: 2.0947e-04 - val_loss: 0.0027-0\n",
      "Epoch 64/100\n",
      "716/716 [==============================] - 3s 4ms/sample - loss: 2.6197e-04 - val_loss: 0.0058\n",
      "Epoch 65/100\n",
      "716/716 [==============================] - 3s 4ms/sample - loss: 2.5904e-04 - val_loss: 0.0030\n",
      "Epoch 66/100\n",
      "716/716 [==============================] - 2s 3ms/sample - loss: 1.9585e-04 - val_loss: 0.0041\n",
      "Epoch 67/100\n",
      "716/716 [==============================] - 3s 4ms/sample - loss: 1.9919e-04 - val_loss: 0.0042\n",
      "Epoch 68/100\n",
      "716/716 [==============================] - 3s 4ms/sample - loss: 1.9205e-04 - val_loss: 0.0026\n",
      "Epoch 69/100\n",
      "716/716 [==============================] - 2s 3ms/sample - loss: 1.8520e-04 - val_loss: 0.0029\n",
      "Epoch 70/100\n",
      "716/716 [==============================] - 3s 4ms/sample - loss: 1.9419e-04 - val_loss: 0.0039\n",
      "Epoch 71/100\n",
      "716/716 [==============================] - 3s 4ms/sample - loss: 1.8013e-04 - val_loss: 0.0037\n",
      "Epoch 72/100\n",
      "716/716 [==============================] - 2s 3ms/sample - loss: 1.8463e-04 - val_loss: 0.0043\n",
      "Epoch 73/100\n"
     ]
    },
    {
     "name": "stdout",
     "output_type": "stream",
     "text": [
      "716/716 [==============================] - 3s 4ms/sample - loss: 1.8752e-04 - val_loss: 0.0028\n",
      "Epoch 74/100\n",
      "716/716 [==============================] - 2s 3ms/sample - loss: 1.7899e-04 - val_loss: 0.0040\n",
      "Epoch 75/100\n",
      "716/716 [==============================] - 3s 4ms/sample - loss: 1.8011e-04 - val_loss: 0.0029\n",
      "Epoch 76/100\n",
      "716/716 [==============================] - 3s 4ms/sample - loss: 1.8012e-04 - val_loss: 0.0046\n",
      "Epoch 77/100\n",
      "716/716 [==============================] - 3s 4ms/sample - loss: 2.1201e-04 - val_loss: 0.0039\n",
      "Epoch 78/100\n",
      "716/716 [==============================] - 3s 4ms/sample - loss: 1.8380e-04 - val_loss: 0.0031\n",
      "Epoch 79/100\n",
      "716/716 [==============================] - 3s 4ms/sample - loss: 1.8348e-04 - val_loss: 0.0037\n",
      "Epoch 80/100\n",
      "716/716 [==============================] - 3s 4ms/sample - loss: 2.0288e-04 - val_loss: 0.0062\n",
      "Epoch 81/100\n",
      "716/716 [==============================] - 3s 4ms/sample - loss: 1.9156e-04 - val_loss: 0.0021\n",
      "Epoch 82/100\n",
      "716/716 [==============================] - 3s 4ms/sample - loss: 1.7693e-04 - val_loss: 0.0039\n",
      "Epoch 83/100\n",
      "716/716 [==============================] - 3s 4ms/sample - loss: 1.7156e-04 - val_loss: 0.0033\n",
      "Epoch 84/100\n",
      "716/716 [==============================] - 3s 4ms/sample - loss: 1.6777e-04 - val_loss: 0.0026\n",
      "Epoch 85/100\n",
      "716/716 [==============================] - 3s 4ms/sample - loss: 1.7231e-04 - val_loss: 0.0036\n",
      "Epoch 86/100\n",
      "716/716 [==============================] - 3s 4ms/sample - loss: 1.6876e-04 - val_loss: 0.0028\n",
      "Epoch 87/100\n",
      "716/716 [==============================] - 3s 4ms/sample - loss: 1.9592e-04 - val_loss: 0.0052\n",
      "Epoch 88/100\n",
      "716/716 [==============================] - 3s 4ms/sample - loss: 2.1401e-04 - val_loss: 0.0021\n",
      "Epoch 89/100\n",
      "716/716 [==============================] - 3s 4ms/sample - loss: 1.6846e-04 - val_loss: 0.0034\n",
      "Epoch 90/100\n",
      "716/716 [==============================] - 3s 4ms/sample - loss: 1.6993e-04 - val_loss: 0.0030\n",
      "Epoch 91/100\n",
      "716/716 [==============================] - 3s 4ms/sample - loss: 1.8660e-04 - val_loss: 0.0039\n",
      "Epoch 92/100\n",
      "716/716 [==============================] - 3s 4ms/sample - loss: 2.0104e-04 - val_loss: 0.0029\n",
      "Epoch 93/100\n",
      "716/716 [==============================] - 3s 4ms/sample - loss: 1.8506e-04 - val_loss: 0.0017\n",
      "Epoch 94/100\n",
      "716/716 [==============================] - 3s 4ms/sample - loss: 2.3583e-04 - val_loss: 0.0055\n",
      "Epoch 95/100\n",
      "716/716 [==============================] - 3s 4ms/sample - loss: 1.8299e-04 - val_loss: 0.0037\n",
      "Epoch 96/100\n",
      "716/716 [==============================] - 3s 4ms/sample - loss: 1.5545e-04 - val_loss: 0.0029\n",
      "Epoch 97/100\n",
      "716/716 [==============================] - 3s 4ms/sample - loss: 1.6165e-04 - val_loss: 0.0039\n",
      "Epoch 98/100\n",
      "716/716 [==============================] - 3s 4ms/sample - loss: 1.5621e-04 - val_loss: 0.0026\n",
      "Epoch 99/100\n",
      "716/716 [==============================] - 3s 4ms/sample - loss: 1.5565e-04 - val_loss: 0.0026\n",
      "Epoch 100/100\n",
      "716/716 [==============================] - 3s 4ms/sample - loss: 1.5317e-04 - val_loss: 0.0025\n"
     ]
    },
    {
     "data": {
      "text/plain": [
       "<tensorflow.python.keras.callbacks.History at 0x218e945ecc8>"
      ]
     },
     "execution_count": 50,
     "metadata": {},
     "output_type": "execute_result"
    }
   ],
   "source": [
    "model.fit(X_train,y_train,validation_data=(X_test,ytest),epochs=100,batch_size=64,verbose=1)"
   ]
  },
  {
   "cell_type": "code",
   "execution_count": 51,
   "metadata": {},
   "outputs": [],
   "source": [
    "import tensorflow as tf"
   ]
  },
  {
   "cell_type": "code",
   "execution_count": 52,
   "metadata": {},
   "outputs": [
    {
     "data": {
      "text/plain": [
       "'1.14.0'"
      ]
     },
     "execution_count": 52,
     "metadata": {},
     "output_type": "execute_result"
    }
   ],
   "source": [
    "tf.__version__"
   ]
  },
  {
   "cell_type": "code",
   "execution_count": 53,
   "metadata": {},
   "outputs": [],
   "source": [
    "### Lets Do the prediction and check performance metrics\n",
    "train_predict=model.predict(X_train)\n",
    "test_predict=model.predict(X_test)"
   ]
  },
  {
   "cell_type": "code",
   "execution_count": 54,
   "metadata": {},
   "outputs": [],
   "source": [
    "##Transformback to original form\n",
    "train_predict=scaler.inverse_transform(train_predict)\n",
    "test_predict=scaler.inverse_transform(test_predict)"
   ]
  },
  {
   "cell_type": "code",
   "execution_count": 55,
   "metadata": {},
   "outputs": [
    {
     "data": {
      "text/plain": [
       "588.4704530491406"
      ]
     },
     "execution_count": 55,
     "metadata": {},
     "output_type": "execute_result"
    }
   ],
   "source": [
    "### Calculate RMSE performance metrics\n",
    "import math\n",
    "from sklearn.metrics import mean_squared_error\n",
    "math.sqrt(mean_squared_error(y_train,train_predict))"
   ]
  },
  {
   "cell_type": "code",
   "execution_count": 56,
   "metadata": {},
   "outputs": [
    {
     "data": {
      "text/plain": [
       "945.2671405523738"
      ]
     },
     "execution_count": 56,
     "metadata": {},
     "output_type": "execute_result"
    }
   ],
   "source": [
    "### Test Data RMSE\n",
    "math.sqrt(mean_squared_error(ytest,test_predict))"
   ]
  },
  {
   "cell_type": "code",
   "execution_count": 57,
   "metadata": {},
   "outputs": [
    {
     "data": {
      "image/png": "[encoded data removed]",
      "text/plain": [
       "<Figure size 432x288 with 1 Axes>"
      ]
     },
     "metadata": {
      "needs_background": "light"
     },
     "output_type": "display_data"
    }
   ],
   "source": [
    "### Plotting \n",
    "# shift train predictions for plotting\n",
    "look_back=100\n",
    "trainPredictPlot = numpy.empty_like(df1)\n",
    "trainPredictPlot[:, :] = np.nan\n",
    "trainPredictPlot[look_back:len(train_predict)+look_back, :] = train_predict\n",
    "# shift test predictions for plotting\n",
    "testPredictPlot = numpy.empty_like(df1)\n",
    "testPredictPlot[:, :] = numpy.nan\n",
    "testPredictPlot[len(train_predict)+(look_back*2)+1:len(df1)-1, :] = test_predict\n",
    "# plot baseline and predictions\n",
    "plt.plot(scaler.inverse_transform(df1))\n",
    "plt.plot(trainPredictPlot)\n",
    "plt.plot(testPredictPlot)\n",
    "plt.show()"
   ]
  },
  {
   "cell_type": "code",
   "execution_count": 58,
   "metadata": {},
   "outputs": [
    {
     "data": {
      "text/plain": [
       "441"
      ]
     },
     "execution_count": 58,
     "metadata": {},
     "output_type": "execute_result"
    }
   ],
   "source": [
    "len(test_data)"
   ]
  },
  {
   "cell_type": "code",
   "execution_count": 59,
   "metadata": {},
   "outputs": [
    {
     "data": {
      "text/plain": [
       "(1, 100)"
      ]
     },
     "execution_count": 59,
     "metadata": {},
     "output_type": "execute_result"
    }
   ],
   "source": [
    "x_input=test_data[341:].reshape(1,-1)\n",
    "x_input.shape"
   ]
  },
  {
   "cell_type": "code",
   "execution_count": 60,
   "metadata": {},
   "outputs": [],
   "source": [
    "temp_input=list(x_input)\n",
    "temp_input=temp_input[0].tolist()"
   ]
  },
  {
   "cell_type": "code",
   "execution_count": 61,
   "metadata": {},
   "outputs": [
    {
     "name": "stdout",
     "output_type": "stream",
     "text": [
      "[0.89047915]\n",
      "101\n",
      "1 day input [0.68452224 0.68402441 0.67093146 0.65719118 0.66376257 0.70010448\n",
      " 0.70030369 0.67600935 0.67356989 0.66042711 0.69811315 0.70114998\n",
      " 0.6867625  0.69492705 0.7037387  0.71354601 0.73530135 0.72788367\n",
      " 0.72335333 0.72469758 0.7147906  0.7258425  0.71937065 0.74983821\n",
      " 0.73739235 0.7804052  0.81281426 0.7958879  0.80011949 0.81007618\n",
      " 0.80659133 0.81555235 0.82018212 0.84786176 0.85338777 0.84173837\n",
      " 0.82187483 0.87160843 0.93543078 0.9310001  0.94633343 0.92975552\n",
      " 0.90431613 0.87155872 0.87613878 0.89883995 0.89908887 0.90023391\n",
      " 0.88455213 0.86055654 0.8358639  0.7988749  0.82063024 0.83093539\n",
      " 0.84427737 0.83900028 0.83178168 0.86309554 0.86508688 0.85607603\n",
      " 0.85224273 0.86931847 0.86916909 0.85000247 0.84094191 0.85204352\n",
      " 0.8508986  0.82491154 0.82605659 0.83397223 0.83422114 0.81306318\n",
      " 0.8267038  0.86404138 0.90292229 0.88977939 0.87618849 0.89515603\n",
      " 0.90491363 0.92741572 0.93408665 0.93284207 0.94319705 0.94618405\n",
      " 0.89650015 0.9038183  0.93005427 0.93080102 0.91307806 0.89321452\n",
      " 0.89560403 0.94449146 0.92731618 0.9443918  0.96898489 0.97012994\n",
      " 0.9891969  0.99880512 1.         0.89047915]\n",
      "1 day output [[0.8752644]]\n",
      "2 day input [0.68402441 0.67093146 0.65719118 0.66376257 0.70010448 0.70030369\n",
      " 0.67600935 0.67356989 0.66042711 0.69811315 0.70114998 0.6867625\n",
      " 0.69492705 0.7037387  0.71354601 0.73530135 0.72788367 0.72335333\n",
      " 0.72469758 0.7147906  0.7258425  0.71937065 0.74983821 0.73739235\n",
      " 0.7804052  0.81281426 0.7958879  0.80011949 0.81007618 0.80659133\n",
      " 0.81555235 0.82018212 0.84786176 0.85338777 0.84173837 0.82187483\n",
      " 0.87160843 0.93543078 0.9310001  0.94633343 0.92975552 0.90431613\n",
      " 0.87155872 0.87613878 0.89883995 0.89908887 0.90023391 0.88455213\n",
      " 0.86055654 0.8358639  0.7988749  0.82063024 0.83093539 0.84427737\n",
      " 0.83900028 0.83178168 0.86309554 0.86508688 0.85607603 0.85224273\n",
      " 0.86931847 0.86916909 0.85000247 0.84094191 0.85204352 0.8508986\n",
      " 0.82491154 0.82605659 0.83397223 0.83422114 0.81306318 0.8267038\n",
      " 0.86404138 0.90292229 0.88977939 0.87618849 0.89515603 0.90491363\n",
      " 0.92741572 0.93408665 0.93284207 0.94319705 0.94618405 0.89650015\n",
      " 0.9038183  0.93005427 0.93080102 0.91307806 0.89321452 0.89560403\n",
      " 0.94449146 0.92731618 0.9443918  0.96898489 0.97012994 0.9891969\n",
      " 0.99880512 1.         0.89047915 0.87526441]\n",
      "2 day output [[0.84694976]]\n",
      "3 day input [0.67093146 0.65719118 0.66376257 0.70010448 0.70030369 0.67600935\n",
      " 0.67356989 0.66042711 0.69811315 0.70114998 0.6867625  0.69492705\n",
      " 0.7037387  0.71354601 0.73530135 0.72788367 0.72335333 0.72469758\n",
      " 0.7147906  0.7258425  0.71937065 0.74983821 0.73739235 0.7804052\n",
      " 0.81281426 0.7958879  0.80011949 0.81007618 0.80659133 0.81555235\n",
      " 0.82018212 0.84786176 0.85338777 0.84173837 0.82187483 0.87160843\n",
      " 0.93543078 0.9310001  0.94633343 0.92975552 0.90431613 0.87155872\n",
      " 0.87613878 0.89883995 0.89908887 0.90023391 0.88455213 0.86055654\n",
      " 0.8358639  0.7988749  0.82063024 0.83093539 0.84427737 0.83900028\n",
      " 0.83178168 0.86309554 0.86508688 0.85607603 0.85224273 0.86931847\n",
      " 0.86916909 0.85000247 0.84094191 0.85204352 0.8508986  0.82491154\n",
      " 0.82605659 0.83397223 0.83422114 0.81306318 0.8267038  0.86404138\n",
      " 0.90292229 0.88977939 0.87618849 0.89515603 0.90491363 0.92741572\n",
      " 0.93408665 0.93284207 0.94319705 0.94618405 0.89650015 0.9038183\n",
      " 0.93005427 0.93080102 0.91307806 0.89321452 0.89560403 0.94449146\n",
      " 0.92731618 0.9443918  0.96898489 0.97012994 0.9891969  0.99880512\n",
      " 1.         0.89047915 0.87526441 0.84694976]\n",
      "3 day output [[0.81403464]]\n",
      "4 day input [0.65719118 0.66376257 0.70010448 0.70030369 0.67600935 0.67356989\n",
      " 0.66042711 0.69811315 0.70114998 0.6867625  0.69492705 0.7037387\n",
      " 0.71354601 0.73530135 0.72788367 0.72335333 0.72469758 0.7147906\n",
      " 0.7258425  0.71937065 0.74983821 0.73739235 0.7804052  0.81281426\n",
      " 0.7958879  0.80011949 0.81007618 0.80659133 0.81555235 0.82018212\n",
      " 0.84786176 0.85338777 0.84173837 0.82187483 0.87160843 0.93543078\n",
      " 0.9310001  0.94633343 0.92975552 0.90431613 0.87155872 0.87613878\n",
      " 0.89883995 0.89908887 0.90023391 0.88455213 0.86055654 0.8358639\n",
      " 0.7988749  0.82063024 0.83093539 0.84427737 0.83900028 0.83178168\n",
      " 0.86309554 0.86508688 0.85607603 0.85224273 0.86931847 0.86916909\n",
      " 0.85000247 0.84094191 0.85204352 0.8508986  0.82491154 0.82605659\n",
      " 0.83397223 0.83422114 0.81306318 0.8267038  0.86404138 0.90292229\n",
      " 0.88977939 0.87618849 0.89515603 0.90491363 0.92741572 0.93408665\n",
      " 0.93284207 0.94319705 0.94618405 0.89650015 0.9038183  0.93005427\n",
      " 0.93080102 0.91307806 0.89321452 0.89560403 0.94449146 0.92731618\n",
      " 0.9443918  0.96898489 0.97012994 0.9891969  0.99880512 1.\n",
      " 0.89047915 0.87526441 0.84694976 0.81403464]\n",
      "4 day output [[0.78126794]]\n",
      "5 day input [0.66376257 0.70010448 0.70030369 0.67600935 0.67356989 0.66042711\n",
      " 0.69811315 0.70114998 0.6867625  0.69492705 0.7037387  0.71354601\n",
      " 0.73530135 0.72788367 0.72335333 0.72469758 0.7147906  0.7258425\n",
      " 0.71937065 0.74983821 0.73739235 0.7804052  0.81281426 0.7958879\n",
      " 0.80011949 0.81007618 0.80659133 0.81555235 0.82018212 0.84786176\n",
      " 0.85338777 0.84173837 0.82187483 0.87160843 0.93543078 0.9310001\n",
      " 0.94633343 0.92975552 0.90431613 0.87155872 0.87613878 0.89883995\n",
      " 0.89908887 0.90023391 0.88455213 0.86055654 0.8358639  0.7988749\n",
      " 0.82063024 0.83093539 0.84427737 0.83900028 0.83178168 0.86309554\n",
      " 0.86508688 0.85607603 0.85224273 0.86931847 0.86916909 0.85000247\n",
      " 0.84094191 0.85204352 0.8508986  0.82491154 0.82605659 0.83397223\n",
      " 0.83422114 0.81306318 0.8267038  0.86404138 0.90292229 0.88977939\n",
      " 0.87618849 0.89515603 0.90491363 0.92741572 0.93408665 0.93284207\n",
      " 0.94319705 0.94618405 0.89650015 0.9038183  0.93005427 0.93080102\n",
      " 0.91307806 0.89321452 0.89560403 0.94449146 0.92731618 0.9443918\n",
      " 0.96898489 0.97012994 0.9891969  0.99880512 1.         0.89047915\n",
      " 0.87526441 0.84694976 0.81403464 0.78126794]\n",
      "5 day output [[0.750782]]\n",
      "6 day input [0.70010448 0.70030369 0.67600935 0.67356989 0.66042711 0.69811315\n",
      " 0.70114998 0.6867625  0.69492705 0.7037387  0.71354601 0.73530135\n",
      " 0.72788367 0.72335333 0.72469758 0.7147906  0.7258425  0.71937065\n",
      " 0.74983821 0.73739235 0.7804052  0.81281426 0.7958879  0.80011949\n",
      " 0.81007618 0.80659133 0.81555235 0.82018212 0.84786176 0.85338777\n",
      " 0.84173837 0.82187483 0.87160843 0.93543078 0.9310001  0.94633343\n",
      " 0.92975552 0.90431613 0.87155872 0.87613878 0.89883995 0.89908887\n",
      " 0.90023391 0.88455213 0.86055654 0.8358639  0.7988749  0.82063024\n",
      " 0.83093539 0.84427737 0.83900028 0.83178168 0.86309554 0.86508688\n",
      " 0.85607603 0.85224273 0.86931847 0.86916909 0.85000247 0.84094191\n",
      " 0.85204352 0.8508986  0.82491154 0.82605659 0.83397223 0.83422114\n",
      " 0.81306318 0.8267038  0.86404138 0.90292229 0.88977939 0.87618849\n",
      " 0.89515603 0.90491363 0.92741572 0.93408665 0.93284207 0.94319705\n",
      " 0.94618405 0.89650015 0.9038183  0.93005427 0.93080102 0.91307806\n",
      " 0.89321452 0.89560403 0.94449146 0.92731618 0.9443918  0.96898489\n",
      " 0.97012994 0.9891969  0.99880512 1.         0.89047915 0.87526441\n",
      " 0.84694976 0.81403464 0.78126794 0.75078201]\n",
      "6 day output [[0.72340125]]\n",
      "7 day input [0.70030369 0.67600935 0.67356989 0.66042711 0.69811315 0.70114998\n",
      " 0.6867625  0.69492705 0.7037387  0.71354601 0.73530135 0.72788367\n",
      " 0.72335333 0.72469758 0.7147906  0.7258425  0.71937065 0.74983821\n",
      " 0.73739235 0.7804052  0.81281426 0.7958879  0.80011949 0.81007618\n",
      " 0.80659133 0.81555235 0.82018212 0.84786176 0.85338777 0.84173837\n",
      " 0.82187483 0.87160843 0.93543078 0.9310001  0.94633343 0.92975552\n",
      " 0.90431613 0.87155872 0.87613878 0.89883995 0.89908887 0.90023391\n",
      " 0.88455213 0.86055654 0.8358639  0.7988749  0.82063024 0.83093539\n",
      " 0.84427737 0.83900028 0.83178168 0.86309554 0.86508688 0.85607603\n",
      " 0.85224273 0.86931847 0.86916909 0.85000247 0.84094191 0.85204352\n",
      " 0.8508986  0.82491154 0.82605659 0.83397223 0.83422114 0.81306318\n",
      " 0.8267038  0.86404138 0.90292229 0.88977939 0.87618849 0.89515603\n",
      " 0.90491363 0.92741572 0.93408665 0.93284207 0.94319705 0.94618405\n",
      " 0.89650015 0.9038183  0.93005427 0.93080102 0.91307806 0.89321452\n",
      " 0.89560403 0.94449146 0.92731618 0.9443918  0.96898489 0.97012994\n",
      " 0.9891969  0.99880512 1.         0.89047915 0.87526441 0.84694976\n",
      " 0.81403464 0.78126794 0.75078201 0.72340125]\n",
      "7 day output [[0.69937927]]\n",
      "8 day input [0.67600935 0.67356989 0.66042711 0.69811315 0.70114998 0.6867625\n",
      " 0.69492705 0.7037387  0.71354601 0.73530135 0.72788367 0.72335333\n",
      " 0.72469758 0.7147906  0.7258425  0.71937065 0.74983821 0.73739235\n",
      " 0.7804052  0.81281426 0.7958879  0.80011949 0.81007618 0.80659133\n",
      " 0.81555235 0.82018212 0.84786176 0.85338777 0.84173837 0.82187483\n",
      " 0.87160843 0.93543078 0.9310001  0.94633343 0.92975552 0.90431613\n",
      " 0.87155872 0.87613878 0.89883995 0.89908887 0.90023391 0.88455213\n",
      " 0.86055654 0.8358639  0.7988749  0.82063024 0.83093539 0.84427737\n",
      " 0.83900028 0.83178168 0.86309554 0.86508688 0.85607603 0.85224273\n",
      " 0.86931847 0.86916909 0.85000247 0.84094191 0.85204352 0.8508986\n",
      " 0.82491154 0.82605659 0.83397223 0.83422114 0.81306318 0.8267038\n",
      " 0.86404138 0.90292229 0.88977939 0.87618849 0.89515603 0.90491363\n",
      " 0.92741572 0.93408665 0.93284207 0.94319705 0.94618405 0.89650015\n",
      " 0.9038183  0.93005427 0.93080102 0.91307806 0.89321452 0.89560403\n",
      " 0.94449146 0.92731618 0.9443918  0.96898489 0.97012994 0.9891969\n",
      " 0.99880512 1.         0.89047915 0.87526441 0.84694976 0.81403464\n",
      " 0.78126794 0.75078201 0.72340125 0.69937927]\n",
      "8 day output [[0.67871606]]\n",
      "9 day input [0.67356989 0.66042711 0.69811315 0.70114998 0.6867625  0.69492705\n",
      " 0.7037387  0.71354601 0.73530135 0.72788367 0.72335333 0.72469758\n",
      " 0.7147906  0.7258425  0.71937065 0.74983821 0.73739235 0.7804052\n",
      " 0.81281426 0.7958879  0.80011949 0.81007618 0.80659133 0.81555235\n",
      " 0.82018212 0.84786176 0.85338777 0.84173837 0.82187483 0.87160843\n",
      " 0.93543078 0.9310001  0.94633343 0.92975552 0.90431613 0.87155872\n",
      " 0.87613878 0.89883995 0.89908887 0.90023391 0.88455213 0.86055654\n",
      " 0.8358639  0.7988749  0.82063024 0.83093539 0.84427737 0.83900028\n",
      " 0.83178168 0.86309554 0.86508688 0.85607603 0.85224273 0.86931847\n",
      " 0.86916909 0.85000247 0.84094191 0.85204352 0.8508986  0.82491154\n",
      " 0.82605659 0.83397223 0.83422114 0.81306318 0.8267038  0.86404138\n",
      " 0.90292229 0.88977939 0.87618849 0.89515603 0.90491363 0.92741572\n",
      " 0.93408665 0.93284207 0.94319705 0.94618405 0.89650015 0.9038183\n",
      " 0.93005427 0.93080102 0.91307806 0.89321452 0.89560403 0.94449146\n",
      " 0.92731618 0.9443918  0.96898489 0.97012994 0.9891969  0.99880512\n",
      " 1.         0.89047915 0.87526441 0.84694976 0.81403464 0.78126794\n",
      " 0.75078201 0.72340125 0.69937927 0.67871606]\n",
      "9 day output [[0.6612727]]\n",
      "10 day input [0.66042711 0.69811315 0.70114998 0.6867625  0.69492705 0.7037387\n",
      " 0.71354601 0.73530135 0.72788367 0.72335333 0.72469758 0.7147906\n",
      " 0.7258425  0.71937065 0.74983821 0.73739235 0.7804052  0.81281426\n",
      " 0.7958879  0.80011949 0.81007618 0.80659133 0.81555235 0.82018212\n",
      " 0.84786176 0.85338777 0.84173837 0.82187483 0.87160843 0.93543078\n",
      " 0.9310001  0.94633343 0.92975552 0.90431613 0.87155872 0.87613878\n",
      " 0.89883995 0.89908887 0.90023391 0.88455213 0.86055654 0.8358639\n",
      " 0.7988749  0.82063024 0.83093539 0.84427737 0.83900028 0.83178168\n",
      " 0.86309554 0.86508688 0.85607603 0.85224273 0.86931847 0.86916909\n",
      " 0.85000247 0.84094191 0.85204352 0.8508986  0.82491154 0.82605659\n",
      " 0.83397223 0.83422114 0.81306318 0.8267038  0.86404138 0.90292229\n",
      " 0.88977939 0.87618849 0.89515603 0.90491363 0.92741572 0.93408665\n",
      " 0.93284207 0.94319705 0.94618405 0.89650015 0.9038183  0.93005427\n",
      " 0.93080102 0.91307806 0.89321452 0.89560403 0.94449146 0.92731618\n",
      " 0.9443918  0.96898489 0.97012994 0.9891969  0.99880512 1.\n",
      " 0.89047915 0.87526441 0.84694976 0.81403464 0.78126794 0.75078201\n",
      " 0.72340125 0.69937927 0.67871606 0.6612727 ]\n",
      "10 day output [[0.64681387]]\n",
      "11 day input [0.69811315 0.70114998 0.6867625  0.69492705 0.7037387  0.71354601\n",
      " 0.73530135 0.72788367 0.72335333 0.72469758 0.7147906  0.7258425\n",
      " 0.71937065 0.74983821 0.73739235 0.7804052  0.81281426 0.7958879\n",
      " 0.80011949 0.81007618 0.80659133 0.81555235 0.82018212 0.84786176\n",
      " 0.85338777 0.84173837 0.82187483 0.87160843 0.93543078 0.9310001\n",
      " 0.94633343 0.92975552 0.90431613 0.87155872 0.87613878 0.89883995\n",
      " 0.89908887 0.90023391 0.88455213 0.86055654 0.8358639  0.7988749\n",
      " 0.82063024 0.83093539 0.84427737 0.83900028 0.83178168 0.86309554\n",
      " 0.86508688 0.85607603 0.85224273 0.86931847 0.86916909 0.85000247\n",
      " 0.84094191 0.85204352 0.8508986  0.82491154 0.82605659 0.83397223\n",
      " 0.83422114 0.81306318 0.8267038  0.86404138 0.90292229 0.88977939\n",
      " 0.87618849 0.89515603 0.90491363 0.92741572 0.93408665 0.93284207\n",
      " 0.94319705 0.94618405 0.89650015 0.9038183  0.93005427 0.93080102\n",
      " 0.91307806 0.89321452 0.89560403 0.94449146 0.92731618 0.9443918\n",
      " 0.96898489 0.97012994 0.9891969  0.99880512 1.         0.89047915\n",
      " 0.87526441 0.84694976 0.81403464 0.78126794 0.75078201 0.72340125\n",
      " 0.69937927 0.67871606 0.6612727  0.64681387]\n",
      "11 day output [[0.6350323]]\n",
      "12 day input [0.70114998 0.6867625  0.69492705 0.7037387  0.71354601 0.73530135\n",
      " 0.72788367 0.72335333 0.72469758 0.7147906  0.7258425  0.71937065\n",
      " 0.74983821 0.73739235 0.7804052  0.81281426 0.7958879  0.80011949\n",
      " 0.81007618 0.80659133 0.81555235 0.82018212 0.84786176 0.85338777\n",
      " 0.84173837 0.82187483 0.87160843 0.93543078 0.9310001  0.94633343\n",
      " 0.92975552 0.90431613 0.87155872 0.87613878 0.89883995 0.89908887\n",
      " 0.90023391 0.88455213 0.86055654 0.8358639  0.7988749  0.82063024\n",
      " 0.83093539 0.84427737 0.83900028 0.83178168 0.86309554 0.86508688\n",
      " 0.85607603 0.85224273 0.86931847 0.86916909 0.85000247 0.84094191\n",
      " 0.85204352 0.8508986  0.82491154 0.82605659 0.83397223 0.83422114\n",
      " 0.81306318 0.8267038  0.86404138 0.90292229 0.88977939 0.87618849\n",
      " 0.89515603 0.90491363 0.92741572 0.93408665 0.93284207 0.94319705\n",
      " 0.94618405 0.89650015 0.9038183  0.93005427 0.93080102 0.91307806\n",
      " 0.89321452 0.89560403 0.94449146 0.92731618 0.9443918  0.96898489\n",
      " 0.97012994 0.9891969  0.99880512 1.         0.89047915 0.87526441\n",
      " 0.84694976 0.81403464 0.78126794 0.75078201 0.72340125 0.69937927\n",
      " 0.67871606 0.6612727  0.64681387 0.6350323 ]\n",
      "12 day output [[0.62556976]]\n",
      "13 day input [0.6867625  0.69492705 0.7037387  0.71354601 0.73530135 0.72788367\n",
      " 0.72335333 0.72469758 0.7147906  0.7258425  0.71937065 0.74983821\n",
      " 0.73739235 0.7804052  0.81281426 0.7958879  0.80011949 0.81007618\n",
      " 0.80659133 0.81555235 0.82018212 0.84786176 0.85338777 0.84173837\n",
      " 0.82187483 0.87160843 0.93543078 0.9310001  0.94633343 0.92975552\n",
      " 0.90431613 0.87155872 0.87613878 0.89883995 0.89908887 0.90023391\n",
      " 0.88455213 0.86055654 0.8358639  0.7988749  0.82063024 0.83093539\n",
      " 0.84427737 0.83900028 0.83178168 0.86309554 0.86508688 0.85607603\n",
      " 0.85224273 0.86931847 0.86916909 0.85000247 0.84094191 0.85204352\n",
      " 0.8508986  0.82491154 0.82605659 0.83397223 0.83422114 0.81306318\n",
      " 0.8267038  0.86404138 0.90292229 0.88977939 0.87618849 0.89515603\n",
      " 0.90491363 0.92741572 0.93408665 0.93284207 0.94319705 0.94618405\n",
      " 0.89650015 0.9038183  0.93005427 0.93080102 0.91307806 0.89321452\n",
      " 0.89560403 0.94449146 0.92731618 0.9443918  0.96898489 0.97012994\n",
      " 0.9891969  0.99880512 1.         0.89047915 0.87526441 0.84694976\n",
      " 0.81403464 0.78126794 0.75078201 0.72340125 0.69937927 0.67871606\n",
      " 0.6612727  0.64681387 0.6350323  0.62556976]\n",
      "13 day output [[0.6180402]]\n",
      "14 day input [0.69492705 0.7037387  0.71354601 0.73530135 0.72788367 0.72335333\n",
      " 0.72469758 0.7147906  0.7258425  0.71937065 0.74983821 0.73739235\n",
      " 0.7804052  0.81281426 0.7958879  0.80011949 0.81007618 0.80659133\n",
      " 0.81555235 0.82018212 0.84786176 0.85338777 0.84173837 0.82187483\n",
      " 0.87160843 0.93543078 0.9310001  0.94633343 0.92975552 0.90431613\n",
      " 0.87155872 0.87613878 0.89883995 0.89908887 0.90023391 0.88455213\n",
      " 0.86055654 0.8358639  0.7988749  0.82063024 0.83093539 0.84427737\n",
      " 0.83900028 0.83178168 0.86309554 0.86508688 0.85607603 0.85224273\n",
      " 0.86931847 0.86916909 0.85000247 0.84094191 0.85204352 0.8508986\n",
      " 0.82491154 0.82605659 0.83397223 0.83422114 0.81306318 0.8267038\n",
      " 0.86404138 0.90292229 0.88977939 0.87618849 0.89515603 0.90491363\n",
      " 0.92741572 0.93408665 0.93284207 0.94319705 0.94618405 0.89650015\n",
      " 0.9038183  0.93005427 0.93080102 0.91307806 0.89321452 0.89560403\n",
      " 0.94449146 0.92731618 0.9443918  0.96898489 0.97012994 0.9891969\n",
      " 0.99880512 1.         0.89047915 0.87526441 0.84694976 0.81403464\n",
      " 0.78126794 0.75078201 0.72340125 0.69937927 0.67871606 0.6612727\n",
      " 0.64681387 0.6350323  0.62556976 0.6180402 ]\n",
      "14 day output [[0.61205167]]\n",
      "15 day input [0.7037387  0.71354601 0.73530135 0.72788367 0.72335333 0.72469758\n",
      " 0.7147906  0.7258425  0.71937065 0.74983821 0.73739235 0.7804052\n",
      " 0.81281426 0.7958879  0.80011949 0.81007618 0.80659133 0.81555235\n",
      " 0.82018212 0.84786176 0.85338777 0.84173837 0.82187483 0.87160843\n",
      " 0.93543078 0.9310001  0.94633343 0.92975552 0.90431613 0.87155872\n",
      " 0.87613878 0.89883995 0.89908887 0.90023391 0.88455213 0.86055654\n",
      " 0.8358639  0.7988749  0.82063024 0.83093539 0.84427737 0.83900028\n",
      " 0.83178168 0.86309554 0.86508688 0.85607603 0.85224273 0.86931847\n",
      " 0.86916909 0.85000247 0.84094191 0.85204352 0.8508986  0.82491154\n",
      " 0.82605659 0.83397223 0.83422114 0.81306318 0.8267038  0.86404138\n",
      " 0.90292229 0.88977939 0.87618849 0.89515603 0.90491363 0.92741572\n",
      " 0.93408665 0.93284207 0.94319705 0.94618405 0.89650015 0.9038183\n",
      " 0.93005427 0.93080102 0.91307806 0.89321452 0.89560403 0.94449146\n",
      " 0.92731618 0.9443918  0.96898489 0.97012994 0.9891969  0.99880512\n",
      " 1.         0.89047915 0.87526441 0.84694976 0.81403464 0.78126794\n",
      " 0.75078201 0.72340125 0.69937927 0.67871606 0.6612727  0.64681387\n",
      " 0.6350323  0.62556976 0.6180402  0.61205167]\n",
      "15 day output [[0.60722584]]\n",
      "16 day input [0.71354601 0.73530135 0.72788367 0.72335333 0.72469758 0.7147906\n",
      " 0.7258425  0.71937065 0.74983821 0.73739235 0.7804052  0.81281426\n",
      " 0.7958879  0.80011949 0.81007618 0.80659133 0.81555235 0.82018212\n",
      " 0.84786176 0.85338777 0.84173837 0.82187483 0.87160843 0.93543078\n",
      " 0.9310001  0.94633343 0.92975552 0.90431613 0.87155872 0.87613878\n",
      " 0.89883995 0.89908887 0.90023391 0.88455213 0.86055654 0.8358639\n",
      " 0.7988749  0.82063024 0.83093539 0.84427737 0.83900028 0.83178168\n",
      " 0.86309554 0.86508688 0.85607603 0.85224273 0.86931847 0.86916909\n",
      " 0.85000247 0.84094191 0.85204352 0.8508986  0.82491154 0.82605659\n",
      " 0.83397223 0.83422114 0.81306318 0.8267038  0.86404138 0.90292229\n",
      " 0.88977939 0.87618849 0.89515603 0.90491363 0.92741572 0.93408665\n",
      " 0.93284207 0.94319705 0.94618405 0.89650015 0.9038183  0.93005427\n",
      " 0.93080102 0.91307806 0.89321452 0.89560403 0.94449146 0.92731618\n",
      " 0.9443918  0.96898489 0.97012994 0.9891969  0.99880512 1.\n",
      " 0.89047915 0.87526441 0.84694976 0.81403464 0.78126794 0.75078201\n",
      " 0.72340125 0.69937927 0.67871606 0.6612727  0.64681387 0.6350323\n",
      " 0.62556976 0.6180402  0.61205167 0.60722584]\n"
     ]
    },
    {
     "name": "stdout",
     "output_type": "stream",
     "text": [
      "16 day output [[0.6032149]]\n",
      "17 day input [0.73530135 0.72788367 0.72335333 0.72469758 0.7147906  0.7258425\n",
      " 0.71937065 0.74983821 0.73739235 0.7804052  0.81281426 0.7958879\n",
      " 0.80011949 0.81007618 0.80659133 0.81555235 0.82018212 0.84786176\n",
      " 0.85338777 0.84173837 0.82187483 0.87160843 0.93543078 0.9310001\n",
      " 0.94633343 0.92975552 0.90431613 0.87155872 0.87613878 0.89883995\n",
      " 0.89908887 0.90023391 0.88455213 0.86055654 0.8358639  0.7988749\n",
      " 0.82063024 0.83093539 0.84427737 0.83900028 0.83178168 0.86309554\n",
      " 0.86508688 0.85607603 0.85224273 0.86931847 0.86916909 0.85000247\n",
      " 0.84094191 0.85204352 0.8508986  0.82491154 0.82605659 0.83397223\n",
      " 0.83422114 0.81306318 0.8267038  0.86404138 0.90292229 0.88977939\n",
      " 0.87618849 0.89515603 0.90491363 0.92741572 0.93408665 0.93284207\n",
      " 0.94319705 0.94618405 0.89650015 0.9038183  0.93005427 0.93080102\n",
      " 0.91307806 0.89321452 0.89560403 0.94449146 0.92731618 0.9443918\n",
      " 0.96898489 0.97012994 0.9891969  0.99880512 1.         0.89047915\n",
      " 0.87526441 0.84694976 0.81403464 0.78126794 0.75078201 0.72340125\n",
      " 0.69937927 0.67871606 0.6612727  0.64681387 0.6350323  0.62556976\n",
      " 0.6180402  0.61205167 0.60722584 0.60321492]\n",
      "17 day output [[0.59971267]]\n",
      "18 day input [0.72788367 0.72335333 0.72469758 0.7147906  0.7258425  0.71937065\n",
      " 0.74983821 0.73739235 0.7804052  0.81281426 0.7958879  0.80011949\n",
      " 0.81007618 0.80659133 0.81555235 0.82018212 0.84786176 0.85338777\n",
      " 0.84173837 0.82187483 0.87160843 0.93543078 0.9310001  0.94633343\n",
      " 0.92975552 0.90431613 0.87155872 0.87613878 0.89883995 0.89908887\n",
      " 0.90023391 0.88455213 0.86055654 0.8358639  0.7988749  0.82063024\n",
      " 0.83093539 0.84427737 0.83900028 0.83178168 0.86309554 0.86508688\n",
      " 0.85607603 0.85224273 0.86931847 0.86916909 0.85000247 0.84094191\n",
      " 0.85204352 0.8508986  0.82491154 0.82605659 0.83397223 0.83422114\n",
      " 0.81306318 0.8267038  0.86404138 0.90292229 0.88977939 0.87618849\n",
      " 0.89515603 0.90491363 0.92741572 0.93408665 0.93284207 0.94319705\n",
      " 0.94618405 0.89650015 0.9038183  0.93005427 0.93080102 0.91307806\n",
      " 0.89321452 0.89560403 0.94449146 0.92731618 0.9443918  0.96898489\n",
      " 0.97012994 0.9891969  0.99880512 1.         0.89047915 0.87526441\n",
      " 0.84694976 0.81403464 0.78126794 0.75078201 0.72340125 0.69937927\n",
      " 0.67871606 0.6612727  0.64681387 0.6350323  0.62556976 0.6180402\n",
      " 0.61205167 0.60722584 0.60321492 0.59971267]\n",
      "18 day output [[0.5964643]]\n",
      "19 day input [0.72335333 0.72469758 0.7147906  0.7258425  0.71937065 0.74983821\n",
      " 0.73739235 0.7804052  0.81281426 0.7958879  0.80011949 0.81007618\n",
      " 0.80659133 0.81555235 0.82018212 0.84786176 0.85338777 0.84173837\n",
      " 0.82187483 0.87160843 0.93543078 0.9310001  0.94633343 0.92975552\n",
      " 0.90431613 0.87155872 0.87613878 0.89883995 0.89908887 0.90023391\n",
      " 0.88455213 0.86055654 0.8358639  0.7988749  0.82063024 0.83093539\n",
      " 0.84427737 0.83900028 0.83178168 0.86309554 0.86508688 0.85607603\n",
      " 0.85224273 0.86931847 0.86916909 0.85000247 0.84094191 0.85204352\n",
      " 0.8508986  0.82491154 0.82605659 0.83397223 0.83422114 0.81306318\n",
      " 0.8267038  0.86404138 0.90292229 0.88977939 0.87618849 0.89515603\n",
      " 0.90491363 0.92741572 0.93408665 0.93284207 0.94319705 0.94618405\n",
      " 0.89650015 0.9038183  0.93005427 0.93080102 0.91307806 0.89321452\n",
      " 0.89560403 0.94449146 0.92731618 0.9443918  0.96898489 0.97012994\n",
      " 0.9891969  0.99880512 1.         0.89047915 0.87526441 0.84694976\n",
      " 0.81403464 0.78126794 0.75078201 0.72340125 0.69937927 0.67871606\n",
      " 0.6612727  0.64681387 0.6350323  0.62556976 0.6180402  0.61205167\n",
      " 0.60722584 0.60321492 0.59971267 0.59646428]\n",
      "19 day output [[0.593268]]\n",
      "20 day input [0.72469758 0.7147906  0.7258425  0.71937065 0.74983821 0.73739235\n",
      " 0.7804052  0.81281426 0.7958879  0.80011949 0.81007618 0.80659133\n",
      " 0.81555235 0.82018212 0.84786176 0.85338777 0.84173837 0.82187483\n",
      " 0.87160843 0.93543078 0.9310001  0.94633343 0.92975552 0.90431613\n",
      " 0.87155872 0.87613878 0.89883995 0.89908887 0.90023391 0.88455213\n",
      " 0.86055654 0.8358639  0.7988749  0.82063024 0.83093539 0.84427737\n",
      " 0.83900028 0.83178168 0.86309554 0.86508688 0.85607603 0.85224273\n",
      " 0.86931847 0.86916909 0.85000247 0.84094191 0.85204352 0.8508986\n",
      " 0.82491154 0.82605659 0.83397223 0.83422114 0.81306318 0.8267038\n",
      " 0.86404138 0.90292229 0.88977939 0.87618849 0.89515603 0.90491363\n",
      " 0.92741572 0.93408665 0.93284207 0.94319705 0.94618405 0.89650015\n",
      " 0.9038183  0.93005427 0.93080102 0.91307806 0.89321452 0.89560403\n",
      " 0.94449146 0.92731618 0.9443918  0.96898489 0.97012994 0.9891969\n",
      " 0.99880512 1.         0.89047915 0.87526441 0.84694976 0.81403464\n",
      " 0.78126794 0.75078201 0.72340125 0.69937927 0.67871606 0.6612727\n",
      " 0.64681387 0.6350323  0.62556976 0.6180402  0.61205167 0.60722584\n",
      " 0.60321492 0.59971267 0.59646428 0.59326798]\n",
      "20 day output [[0.58997613]]\n",
      "21 day input [0.7147906  0.7258425  0.71937065 0.74983821 0.73739235 0.7804052\n",
      " 0.81281426 0.7958879  0.80011949 0.81007618 0.80659133 0.81555235\n",
      " 0.82018212 0.84786176 0.85338777 0.84173837 0.82187483 0.87160843\n",
      " 0.93543078 0.9310001  0.94633343 0.92975552 0.90431613 0.87155872\n",
      " 0.87613878 0.89883995 0.89908887 0.90023391 0.88455213 0.86055654\n",
      " 0.8358639  0.7988749  0.82063024 0.83093539 0.84427737 0.83900028\n",
      " 0.83178168 0.86309554 0.86508688 0.85607603 0.85224273 0.86931847\n",
      " 0.86916909 0.85000247 0.84094191 0.85204352 0.8508986  0.82491154\n",
      " 0.82605659 0.83397223 0.83422114 0.81306318 0.8267038  0.86404138\n",
      " 0.90292229 0.88977939 0.87618849 0.89515603 0.90491363 0.92741572\n",
      " 0.93408665 0.93284207 0.94319705 0.94618405 0.89650015 0.9038183\n",
      " 0.93005427 0.93080102 0.91307806 0.89321452 0.89560403 0.94449146\n",
      " 0.92731618 0.9443918  0.96898489 0.97012994 0.9891969  0.99880512\n",
      " 1.         0.89047915 0.87526441 0.84694976 0.81403464 0.78126794\n",
      " 0.75078201 0.72340125 0.69937927 0.67871606 0.6612727  0.64681387\n",
      " 0.6350323  0.62556976 0.6180402  0.61205167 0.60722584 0.60321492\n",
      " 0.59971267 0.59646428 0.59326798 0.58997613]\n",
      "21 day output [[0.58649224]]\n",
      "22 day input [0.7258425  0.71937065 0.74983821 0.73739235 0.7804052  0.81281426\n",
      " 0.7958879  0.80011949 0.81007618 0.80659133 0.81555235 0.82018212\n",
      " 0.84786176 0.85338777 0.84173837 0.82187483 0.87160843 0.93543078\n",
      " 0.9310001  0.94633343 0.92975552 0.90431613 0.87155872 0.87613878\n",
      " 0.89883995 0.89908887 0.90023391 0.88455213 0.86055654 0.8358639\n",
      " 0.7988749  0.82063024 0.83093539 0.84427737 0.83900028 0.83178168\n",
      " 0.86309554 0.86508688 0.85607603 0.85224273 0.86931847 0.86916909\n",
      " 0.85000247 0.84094191 0.85204352 0.8508986  0.82491154 0.82605659\n",
      " 0.83397223 0.83422114 0.81306318 0.8267038  0.86404138 0.90292229\n",
      " 0.88977939 0.87618849 0.89515603 0.90491363 0.92741572 0.93408665\n",
      " 0.93284207 0.94319705 0.94618405 0.89650015 0.9038183  0.93005427\n",
      " 0.93080102 0.91307806 0.89321452 0.89560403 0.94449146 0.92731618\n",
      " 0.9443918  0.96898489 0.97012994 0.9891969  0.99880512 1.\n",
      " 0.89047915 0.87526441 0.84694976 0.81403464 0.78126794 0.75078201\n",
      " 0.72340125 0.69937927 0.67871606 0.6612727  0.64681387 0.6350323\n",
      " 0.62556976 0.6180402  0.61205167 0.60722584 0.60321492 0.59971267\n",
      " 0.59646428 0.59326798 0.58997613 0.58649224]\n",
      "22 day output [[0.5827646]]\n",
      "23 day input [0.71937065 0.74983821 0.73739235 0.7804052  0.81281426 0.7958879\n",
      " 0.80011949 0.81007618 0.80659133 0.81555235 0.82018212 0.84786176\n",
      " 0.85338777 0.84173837 0.82187483 0.87160843 0.93543078 0.9310001\n",
      " 0.94633343 0.92975552 0.90431613 0.87155872 0.87613878 0.89883995\n",
      " 0.89908887 0.90023391 0.88455213 0.86055654 0.8358639  0.7988749\n",
      " 0.82063024 0.83093539 0.84427737 0.83900028 0.83178168 0.86309554\n",
      " 0.86508688 0.85607603 0.85224273 0.86931847 0.86916909 0.85000247\n",
      " 0.84094191 0.85204352 0.8508986  0.82491154 0.82605659 0.83397223\n",
      " 0.83422114 0.81306318 0.8267038  0.86404138 0.90292229 0.88977939\n",
      " 0.87618849 0.89515603 0.90491363 0.92741572 0.93408665 0.93284207\n",
      " 0.94319705 0.94618405 0.89650015 0.9038183  0.93005427 0.93080102\n",
      " 0.91307806 0.89321452 0.89560403 0.94449146 0.92731618 0.9443918\n",
      " 0.96898489 0.97012994 0.9891969  0.99880512 1.         0.89047915\n",
      " 0.87526441 0.84694976 0.81403464 0.78126794 0.75078201 0.72340125\n",
      " 0.69937927 0.67871606 0.6612727  0.64681387 0.6350323  0.62556976\n",
      " 0.6180402  0.61205167 0.60722584 0.60321492 0.59971267 0.59646428\n",
      " 0.59326798 0.58997613 0.58649224 0.58276463]\n",
      "23 day output [[0.5787801]]\n",
      "24 day input [0.74983821 0.73739235 0.7804052  0.81281426 0.7958879  0.80011949\n",
      " 0.81007618 0.80659133 0.81555235 0.82018212 0.84786176 0.85338777\n",
      " 0.84173837 0.82187483 0.87160843 0.93543078 0.9310001  0.94633343\n",
      " 0.92975552 0.90431613 0.87155872 0.87613878 0.89883995 0.89908887\n",
      " 0.90023391 0.88455213 0.86055654 0.8358639  0.7988749  0.82063024\n",
      " 0.83093539 0.84427737 0.83900028 0.83178168 0.86309554 0.86508688\n",
      " 0.85607603 0.85224273 0.86931847 0.86916909 0.85000247 0.84094191\n",
      " 0.85204352 0.8508986  0.82491154 0.82605659 0.83397223 0.83422114\n",
      " 0.81306318 0.8267038  0.86404138 0.90292229 0.88977939 0.87618849\n",
      " 0.89515603 0.90491363 0.92741572 0.93408665 0.93284207 0.94319705\n",
      " 0.94618405 0.89650015 0.9038183  0.93005427 0.93080102 0.91307806\n",
      " 0.89321452 0.89560403 0.94449146 0.92731618 0.9443918  0.96898489\n",
      " 0.97012994 0.9891969  0.99880512 1.         0.89047915 0.87526441\n",
      " 0.84694976 0.81403464 0.78126794 0.75078201 0.72340125 0.69937927\n",
      " 0.67871606 0.6612727  0.64681387 0.6350323  0.62556976 0.6180402\n",
      " 0.61205167 0.60722584 0.60321492 0.59971267 0.59646428 0.59326798\n",
      " 0.58997613 0.58649224 0.58276463 0.57878011]\n",
      "24 day output [[0.5745558]]\n",
      "25 day input [0.73739235 0.7804052  0.81281426 0.7958879  0.80011949 0.81007618\n",
      " 0.80659133 0.81555235 0.82018212 0.84786176 0.85338777 0.84173837\n",
      " 0.82187483 0.87160843 0.93543078 0.9310001  0.94633343 0.92975552\n",
      " 0.90431613 0.87155872 0.87613878 0.89883995 0.89908887 0.90023391\n",
      " 0.88455213 0.86055654 0.8358639  0.7988749  0.82063024 0.83093539\n",
      " 0.84427737 0.83900028 0.83178168 0.86309554 0.86508688 0.85607603\n",
      " 0.85224273 0.86931847 0.86916909 0.85000247 0.84094191 0.85204352\n",
      " 0.8508986  0.82491154 0.82605659 0.83397223 0.83422114 0.81306318\n",
      " 0.8267038  0.86404138 0.90292229 0.88977939 0.87618849 0.89515603\n",
      " 0.90491363 0.92741572 0.93408665 0.93284207 0.94319705 0.94618405\n",
      " 0.89650015 0.9038183  0.93005427 0.93080102 0.91307806 0.89321452\n",
      " 0.89560403 0.94449146 0.92731618 0.9443918  0.96898489 0.97012994\n",
      " 0.9891969  0.99880512 1.         0.89047915 0.87526441 0.84694976\n",
      " 0.81403464 0.78126794 0.75078201 0.72340125 0.69937927 0.67871606\n",
      " 0.6612727  0.64681387 0.6350323  0.62556976 0.6180402  0.61205167\n",
      " 0.60722584 0.60321492 0.59971267 0.59646428 0.59326798 0.58997613\n",
      " 0.58649224 0.58276463 0.57878011 0.57455581]\n",
      "25 day output [[0.5701307]]\n",
      "26 day input [0.7804052  0.81281426 0.7958879  0.80011949 0.81007618 0.80659133\n",
      " 0.81555235 0.82018212 0.84786176 0.85338777 0.84173837 0.82187483\n",
      " 0.87160843 0.93543078 0.9310001  0.94633343 0.92975552 0.90431613\n",
      " 0.87155872 0.87613878 0.89883995 0.89908887 0.90023391 0.88455213\n",
      " 0.86055654 0.8358639  0.7988749  0.82063024 0.83093539 0.84427737\n",
      " 0.83900028 0.83178168 0.86309554 0.86508688 0.85607603 0.85224273\n",
      " 0.86931847 0.86916909 0.85000247 0.84094191 0.85204352 0.8508986\n",
      " 0.82491154 0.82605659 0.83397223 0.83422114 0.81306318 0.8267038\n",
      " 0.86404138 0.90292229 0.88977939 0.87618849 0.89515603 0.90491363\n",
      " 0.92741572 0.93408665 0.93284207 0.94319705 0.94618405 0.89650015\n",
      " 0.9038183  0.93005427 0.93080102 0.91307806 0.89321452 0.89560403\n",
      " 0.94449146 0.92731618 0.9443918  0.96898489 0.97012994 0.9891969\n",
      " 0.99880512 1.         0.89047915 0.87526441 0.84694976 0.81403464\n",
      " 0.78126794 0.75078201 0.72340125 0.69937927 0.67871606 0.6612727\n",
      " 0.64681387 0.6350323  0.62556976 0.6180402  0.61205167 0.60722584\n",
      " 0.60321492 0.59971267 0.59646428 0.59326798 0.58997613 0.58649224\n",
      " 0.58276463 0.57878011 0.57455581 0.57013071]\n",
      "26 day output [[0.5655582]]\n",
      "27 day input [0.81281426 0.7958879  0.80011949 0.81007618 0.80659133 0.81555235\n",
      " 0.82018212 0.84786176 0.85338777 0.84173837 0.82187483 0.87160843\n",
      " 0.93543078 0.9310001  0.94633343 0.92975552 0.90431613 0.87155872\n",
      " 0.87613878 0.89883995 0.89908887 0.90023391 0.88455213 0.86055654\n",
      " 0.8358639  0.7988749  0.82063024 0.83093539 0.84427737 0.83900028\n",
      " 0.83178168 0.86309554 0.86508688 0.85607603 0.85224273 0.86931847\n",
      " 0.86916909 0.85000247 0.84094191 0.85204352 0.8508986  0.82491154\n",
      " 0.82605659 0.83397223 0.83422114 0.81306318 0.8267038  0.86404138\n",
      " 0.90292229 0.88977939 0.87618849 0.89515603 0.90491363 0.92741572\n",
      " 0.93408665 0.93284207 0.94319705 0.94618405 0.89650015 0.9038183\n",
      " 0.93005427 0.93080102 0.91307806 0.89321452 0.89560403 0.94449146\n",
      " 0.92731618 0.9443918  0.96898489 0.97012994 0.9891969  0.99880512\n",
      " 1.         0.89047915 0.87526441 0.84694976 0.81403464 0.78126794\n",
      " 0.75078201 0.72340125 0.69937927 0.67871606 0.6612727  0.64681387\n",
      " 0.6350323  0.62556976 0.6180402  0.61205167 0.60722584 0.60321492\n",
      " 0.59971267 0.59646428 0.59326798 0.58997613 0.58649224 0.58276463\n",
      " 0.57878011 0.57455581 0.57013071 0.5655582 ]\n",
      "27 day output [[0.5608993]]\n",
      "28 day input [0.7958879  0.80011949 0.81007618 0.80659133 0.81555235 0.82018212\n",
      " 0.84786176 0.85338777 0.84173837 0.82187483 0.87160843 0.93543078\n",
      " 0.9310001  0.94633343 0.92975552 0.90431613 0.87155872 0.87613878\n",
      " 0.89883995 0.89908887 0.90023391 0.88455213 0.86055654 0.8358639\n",
      " 0.7988749  0.82063024 0.83093539 0.84427737 0.83900028 0.83178168\n",
      " 0.86309554 0.86508688 0.85607603 0.85224273 0.86931847 0.86916909\n",
      " 0.85000247 0.84094191 0.85204352 0.8508986  0.82491154 0.82605659\n",
      " 0.83397223 0.83422114 0.81306318 0.8267038  0.86404138 0.90292229\n",
      " 0.88977939 0.87618849 0.89515603 0.90491363 0.92741572 0.93408665\n",
      " 0.93284207 0.94319705 0.94618405 0.89650015 0.9038183  0.93005427\n",
      " 0.93080102 0.91307806 0.89321452 0.89560403 0.94449146 0.92731618\n",
      " 0.9443918  0.96898489 0.97012994 0.9891969  0.99880512 1.\n",
      " 0.89047915 0.87526441 0.84694976 0.81403464 0.78126794 0.75078201\n",
      " 0.72340125 0.69937927 0.67871606 0.6612727  0.64681387 0.6350323\n",
      " 0.62556976 0.6180402  0.61205167 0.60722584 0.60321492 0.59971267\n",
      " 0.59646428 0.59326798 0.58997613 0.58649224 0.58276463 0.57878011\n",
      " 0.57455581 0.57013071 0.5655582  0.56089932]\n",
      "28 day output [[0.5562165]]\n",
      "29 day input [0.80011949 0.81007618 0.80659133 0.81555235 0.82018212 0.84786176\n",
      " 0.85338777 0.84173837 0.82187483 0.87160843 0.93543078 0.9310001\n",
      " 0.94633343 0.92975552 0.90431613 0.87155872 0.87613878 0.89883995\n",
      " 0.89908887 0.90023391 0.88455213 0.86055654 0.8358639  0.7988749\n",
      " 0.82063024 0.83093539 0.84427737 0.83900028 0.83178168 0.86309554\n",
      " 0.86508688 0.85607603 0.85224273 0.86931847 0.86916909 0.85000247\n",
      " 0.84094191 0.85204352 0.8508986  0.82491154 0.82605659 0.83397223\n",
      " 0.83422114 0.81306318 0.8267038  0.86404138 0.90292229 0.88977939\n",
      " 0.87618849 0.89515603 0.90491363 0.92741572 0.93408665 0.93284207\n",
      " 0.94319705 0.94618405 0.89650015 0.9038183  0.93005427 0.93080102\n",
      " 0.91307806 0.89321452 0.89560403 0.94449146 0.92731618 0.9443918\n",
      " 0.96898489 0.97012994 0.9891969  0.99880512 1.         0.89047915\n",
      " 0.87526441 0.84694976 0.81403464 0.78126794 0.75078201 0.72340125\n",
      " 0.69937927 0.67871606 0.6612727  0.64681387 0.6350323  0.62556976\n",
      " 0.6180402  0.61205167 0.60722584 0.60321492 0.59971267 0.59646428\n",
      " 0.59326798 0.58997613 0.58649224 0.58276463 0.57878011 0.57455581\n",
      " 0.57013071 0.5655582  0.56089932 0.55621648]\n"
     ]
    },
    {
     "name": "stdout",
     "output_type": "stream",
     "text": [
      "29 day output [[0.5515693]]\n",
      "[[0.8904791474342346], [0.8752644062042236], [0.8469497561454773], [0.814034640789032], [0.7812679409980774], [0.7507820129394531], [0.7234012484550476], [0.6993792653083801], [0.6787160634994507], [0.6612727046012878], [0.6468138694763184], [0.6350322961807251], [0.625569760799408], [0.6180402040481567], [0.6120516657829285], [0.6072258353233337], [0.6032149195671082], [0.5997126698493958], [0.5964642763137817], [0.5932679772377014], [0.5899761319160461], [0.5864922404289246], [0.5827646255493164], [0.5787801146507263], [0.5745558142662048], [0.5701307058334351], [0.5655581951141357], [0.5608993172645569], [0.5562164783477783], [0.5515692830085754]]\n"
     ]
    }
   ],
   "source": [
    "# demonstrate prediction for next 10 days\n",
    "from numpy import array\n",
    "\n",
    "lst_output=[]\n",
    "n_steps=100\n",
    "i=0\n",
    "while(i<30):\n",
    "    \n",
    "    if(len(temp_input)>100):\n",
    "        #print(temp_input)\n",
    "        x_input=np.array(temp_input[1:])\n",
    "        print(\"{} day input {}\".format(i,x_input))\n",
    "        x_input=x_input.reshape(1,-1)\n",
    "        x_input = x_input.reshape((1, n_steps, 1))\n",
    "        #print(x_input)\n",
    "        yhat = model.predict(x_input, verbose=0)\n",
    "        print(\"{} day output {}\".format(i,yhat))\n",
    "        temp_input.extend(yhat[0].tolist())\n",
    "        temp_input=temp_input[1:]\n",
    "        #print(temp_input)\n",
    "        lst_output.extend(yhat.tolist())\n",
    "        i=i+1\n",
    "    else:\n",
    "        x_input = x_input.reshape((1, n_steps,1))\n",
    "        yhat = model.predict(x_input, verbose=0)\n",
    "        print(yhat[0])\n",
    "        temp_input.extend(yhat[0].tolist())\n",
    "        print(len(temp_input))\n",
    "        lst_output.extend(yhat.tolist())\n",
    "        i=i+1\n",
    "    \n",
    "\n",
    "print(lst_output)"
   ]
  },
  {
   "cell_type": "code",
   "execution_count": 62,
   "metadata": {},
   "outputs": [],
   "source": [
    "day_new=np.arange(1,101)\n",
    "day_pred=np.arange(101,131)"
   ]
  },
  {
   "cell_type": "code",
   "execution_count": 63,
   "metadata": {},
   "outputs": [],
   "source": [
    "import matplotlib.pyplot as plt"
   ]
  },
  {
   "cell_type": "code",
   "execution_count": 64,
   "metadata": {},
   "outputs": [
    {
     "data": {
      "text/plain": [
       "1258"
      ]
     },
     "execution_count": 64,
     "metadata": {},
     "output_type": "execute_result"
    }
   ],
   "source": [
    "len(df1)"
   ]
  },
  {
   "cell_type": "code",
   "execution_count": 66,
   "metadata": {},
   "outputs": [
    {
     "data": {
      "text/plain": [
       "[<matplotlib.lines.Line2D at 0x218f1606b48>]"
      ]
     },
     "execution_count": 66,
     "metadata": {},
     "output_type": "execute_result"
    },
    {
     "data": {
      "image/png": "[encoded data removed]",
      "text/plain": [
       "<Figure size 432x288 with 1 Axes>"
      ]
     },
     "metadata": {
      "needs_background": "light"
     },
     "output_type": "display_data"
    }
   ],
   "source": [
    "plt.plot(day_new,scaler.inverse_transform(df1[1158:]))\n",
    "plt.plot(day_pred,scaler.inverse_transform(lst_output))"
   ]
  },
  {
   "cell_type": "code",
   "execution_count": 67,
   "metadata": {},
   "outputs": [
    {
     "data": {
      "text/plain": [
       "[<matplotlib.lines.Line2D at 0x218f16b2448>]"
      ]
     },
     "execution_count": 67,
     "metadata": {},
     "output_type": "execute_result"
    },
    {
     "data": {
      "image/png": "[encoded data removed]",
      "text/plain": [
       "<Figure size 432x288 with 1 Axes>"
      ]
     },
     "metadata": {
      "needs_background": "light"
     },
     "output_type": "display_data"
    }
   ],
   "source": [
    "df3=df1.tolist()\n",
    "df3.extend(lst_output)\n",
    "plt.plot(df3[1200:])"
   ]
  },
  {
   "cell_type": "code",
   "execution_count": 68,
   "metadata": {},
   "outputs": [],
   "source": [
    "df3=scaler.inverse_transform(df3).tolist()"
   ]
  },
  {
   "cell_type": "code",
   "execution_count": 69,
   "metadata": {},
   "outputs": [
    {
     "data": {
      "text/plain": [
       "[<matplotlib.lines.Line2D at 0x218f1687348>]"
      ]
     },
     "execution_count": 69,
     "metadata": {},
     "output_type": "execute_result"
    },
    {
     "data": {
      "image/png": "[encoded data removed]",
      "text/plain": [
       "<Figure size 432x288 with 1 Axes>"
      ]
     },
     "metadata": {
      "needs_background": "light"
     },
     "output_type": "display_data"
    }
   ],
   "source": [
    "plt.plot(df3)"
   ]
  },
  {
   "cell_type": "code",
   "execution_count": null,
   "metadata": {},
   "outputs": [],
   "source": []
  },
  {
   "cell_type": "code",
   "execution_count": null,
   "metadata": {},
   "outputs": [],
   "source": []
  },
  {
   "cell_type": "code",
   "execution_count": null,
   "metadata": {},
   "outputs": [],
   "source": []
  }
 ],
 "metadata": {
  "kernelspec": {
   "display_name": "Python 3",
   "language": "python",
   "name": "python3"
  },
  "language_info": {
   "codemirror_mode": {
    "name": "ipython",
    "version": 3
   },
   "file_extension": ".py",
   "mimetype": "text/x-python",
   "name": "python",
   "nbconvert_exporter": "python",
   "pygments_lexer": "ipython3",
   "version": "3.7.4"
  }
 },
 "nbformat": 4,
 "nbformat_minor": 2
}
